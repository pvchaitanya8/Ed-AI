{
 "cells": [
  {
   "cell_type": "code",
   "execution_count": null,
   "metadata": {},
   "outputs": [],
   "source": [
    "import os\n",
    "\n",
    "# Path to check\n",
    "file_path = r\"dynamic files\\Main_pages\\Recommendations\\Learn_page_recommendation\"\n",
    "\n",
    "# Check if the file exists\n",
    "file_exists = os.path.exists(file_path)\n",
    "file_exists"
   ]
  },
  {
   "cell_type": "code",
   "execution_count": null,
   "metadata": {},
   "outputs": [],
   "source": [
    "# import json\n",
    "\n",
    "# # Read JSON data from data.json\n",
    "# with open(r'dynamic files\\Main_pages\\Learn.json', 'r') as json_file:\n",
    "#     json_data = json.load(json_file)\n",
    "\n",
    "# # Prepare the output list\n",
    "# output_lines = []\n",
    "\n",
    "# for box in json_data.values():\n",
    "#     title = box['Title']\n",
    "#     status = \"Completed\" if box['Completed'] else \"Not Completed\"\n",
    "#     output_lines.append(f'\"{title}\" : \"{status}\"')\n",
    "\n",
    "# # Write to the text file\n",
    "# with open('exp.txt', 'w') as file:\n",
    "#     for line in output_lines:\n",
    "#         file.write(line + '\\n')\n",
    "\n",
    "# print(\"Data has been written to output.txt\")"
   ]
  },
  {
   "cell_type": "markdown",
   "metadata": {},
   "source": [
    "## recommendation"
   ]
  },
  {
   "cell_type": "code",
   "execution_count": 1,
   "metadata": {},
   "outputs": [
    {
     "name": "stderr",
     "output_type": "stream",
     "text": [
      "d:\\Project files\\Project - EA\\Ed-AI\\venv\\Lib\\site-packages\\tqdm\\auto.py:21: TqdmWarning: IProgress not found. Please update jupyter and ipywidgets. See https://ipywidgets.readthedocs.io/en/stable/user_install.html\n",
      "  from .autonotebook import tqdm as notebook_tqdm\n"
     ]
    }
   ],
   "source": [
    "import os\n",
    "import ast\n",
    "import json\n",
    "from dotenv import load_dotenv\n",
    "import google.generativeai as genai\n",
    "\n",
    "load_dotenv()\n",
    "\n",
    "genai.configure(api_key=os.getenv(\"GOOGLE_API_KEY\"))\n",
    "Learn_list_file_path = r\"dynamic files\\Main_pages\\Learn.json\"\n",
    "\n",
    "\n",
    "def learn_recommendation():\n",
    "    with open(Learn_list_file_path, \"r\") as f:\n",
    "        data = json.load(f)\n",
    "\n",
    "    generation_config = {\n",
    "        \"temperature\": 0.05,\n",
    "        \"top_p\": 0.95,\n",
    "        \"top_k\": 64,\n",
    "        \"max_output_tokens\": 8192,\n",
    "        \"response_mime_type\": \"text/plain\",\n",
    "    }\n",
    "\n",
    "    model = genai.GenerativeModel(\n",
    "        model_name=\"gemini-1.5-pro\",\n",
    "        generation_config=generation_config,\n",
    "    )\n",
    "\n",
    "    chat_session = model.start_chat(\n",
    "        history=[\n",
    "            {\n",
    "                \"role\": \"user\",\n",
    "                \"parts\": [\n",
    "                    f\"\"\"You are provided with a JSON file containing a list of courses. Each course has an \\\"Image Box\\\" identifier, a \\\"Title\\\", and a \\\"Completed\\\" status. Your task is to generate a list of 5 recommended courses based on the following criteria:\\n\\n1. **Exclusion of Completed Courses:** Only include courses where `\\\"Completed\\\": false`.\\n2. **Order of Difficulty:** Arrange the recommended courses from easiest to hardest based on their topics.\\n3. **Selection When All Courses Are Completed:** If all courses are marked as completed, select any 5 courses that are most suitable.\\n4. **Output Format:** The recommendations should be a list of \\\"Image Box\\\" identifiers, strictly adhering to the format below.\\n\\n**Input JSON:**\\n```{data}```\\n[\\\"Image Box X\\\", \\\"Image Box Y\\\", \\\"Image Box Z\\\", \\\"Image Box A\\\", \\\"Image Box B\\\"]\\n```\\n\\n**Additional Notes:**\\n- Ensure that the list strictly contains only the \\\"Image Box\\\" identifiers.\\n- Maintain the sequence from the easiest to the most challenging topics.\\n- Do not include any courses that have `\\\"Completed\\\": true`.\\n- If all courses are completed, select any 8 courses that best fit the recommendation criteria.\\n- Adhere strictly to the expected output format without deviations.\\n\"\"\",\n",
    "                ],\n",
    "            },\n",
    "            {\n",
    "                \"role\": \"model\",\n",
    "                \"parts\": [\n",
    "                    '```\\n[\"Image Box 2\", \"Image Box 3\", \"Image Box 7\", \"Image Box 9\", \"Image Box 11\"]\\n``` \\n',\n",
    "                ],\n",
    "            },\n",
    "        ]\n",
    "    )\n",
    "\n",
    "    response = chat_session.send_message(\"INSERT_INPUT_HERE\")\n",
    "\n",
    "    temp_text = response.text\n",
    "    string_data = temp_text.replace(\"```\", \"\")\n",
    "    list_response = ast.literal_eval(string_data)\n",
    "\n",
    "    return list_response"
   ]
  },
  {
   "cell_type": "code",
   "execution_count": 5,
   "metadata": {},
   "outputs": [],
   "source": [
    "def write_recommendation_data_to_Learn_file():\n",
    "    result_of_learn_recommendation = str(learn_recommendation())\n",
    "    result_of_learn_recommendation = result_of_learn_recommendation.replace(\"'\", '\"')\n",
    "    learn_recommendation_file_path = (\n",
    "        r\"dynamic files\\Main_pages\\Recommendations\\Learn_Recommendation.json\"\n",
    "    )\n",
    "\n",
    "    try:\n",
    "        with open(learn_recommendation_file_path, \"w\") as file:\n",
    "            file.write(result_of_learn_recommendation)\n",
    "        print(f\"Data written to {learn_recommendation_file_path} successfully.\")\n",
    "    except Exception as e:\n",
    "        print(f\"An error occurred while writing to the file: {e}\")"
   ]
  },
  {
   "cell_type": "code",
   "execution_count": 3,
   "metadata": {},
   "outputs": [
    {
     "name": "stdout",
     "output_type": "stream",
     "text": [
      "Data written to dynamic files\\Main_pages\\Recommendations\\Learn_Recommendation.json successfully.\n"
     ]
    }
   ],
   "source": [
    "write_recommendation_data_to_Learn_file()"
   ]
  },
  {
   "cell_type": "code",
   "execution_count": null,
   "metadata": {},
   "outputs": [],
   "source": []
  },
  {
   "cell_type": "markdown",
   "metadata": {},
   "source": [
    "## Test"
   ]
  }
 ],
 "metadata": {
  "kernelspec": {
   "display_name": "venv",
   "language": "python",
   "name": "python3"
  },
  "language_info": {
   "codemirror_mode": {
    "name": "ipython",
    "version": 3
   },
   "file_extension": ".py",
   "mimetype": "text/x-python",
   "name": "python",
   "nbconvert_exporter": "python",
   "pygments_lexer": "ipython3",
   "version": "3.12.3"
  }
 },
 "nbformat": 4,
 "nbformat_minor": 2
}
